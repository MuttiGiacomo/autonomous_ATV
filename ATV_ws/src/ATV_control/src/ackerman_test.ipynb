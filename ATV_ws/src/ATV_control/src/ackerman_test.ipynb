{
 "cells": [
  {
   "cell_type": "code",
   "execution_count": 151,
   "metadata": {},
   "outputs": [],
   "source": [
    "import numpy as np\n",
    "import math"
   ]
  },
  {
   "cell_type": "code",
   "execution_count": 152,
   "metadata": {},
   "outputs": [],
   "source": [
    "ackermann_msg =[ -0.5 , 0.0 , 100.0 , 0.0]\n",
    "h = 2.2\n",
    "b = 1.2\n",
    "r_w = 0.3175"
   ]
  },
  {
   "cell_type": "code",
   "execution_count": 153,
   "metadata": {},
   "outputs": [],
   "source": [
    "def get_steering_amgles(msg):\n",
    "    R = h/math.tan(msg[0])\n",
    "\n",
    "    alpha_l = math.atan2(h*math.tan(msg[0]) , h+0.5*b*math.tan(msg[0]))\n",
    "    alpha_r = math.atan2(h*math.tan(msg[0]) , h-0.5*b*math.tan(msg[0]))\n",
    "\n",
    "    gamma = math.atan2(msg[2],R)\n",
    "    vel_l = math.tan(gamma) * (R+(b/2)) / r_w\n",
    "    vel_r = math.tan(gamma) * (R-(b/2)) / r_w\n",
    "\n",
    "    return [alpha_l , alpha_r , vel_l , vel_r, R]"
   ]
  },
  {
   "cell_type": "code",
   "execution_count": 154,
   "metadata": {},
   "outputs": [
    {
     "name": "stdout",
     "output_type": "stream",
     "text": [
      "('alpha_l: ', -0.5706933736973726)\n",
      "('alpha_r: ', -0.4438256818300523)\n",
      "('vel_l: ', 268.0341454679631)\n",
      "('vel_r: ', 361.88711437455544)\n",
      "('ICR radius: ', -4.0270729877673945)\n",
      "---------------------------------------------------------\n",
      "('ackerman alpha: ', -28.64788975654116, 'average of steering angles: ', -29.063830058659928)\n",
      "('ackerman vel: ', 314.96062992125985, 'average of vels: ', 314.9606299212593)\n"
     ]
    }
   ],
   "source": [
    "[alpha_l , alpha_r , vel_l , vel_r, R] = get_steering_amgles(ackermann_msg)\n",
    "\n",
    "print(\"alpha_l: \", alpha_l)\n",
    "print(\"alpha_r: \", alpha_r)\n",
    "print(\"vel_l: \", vel_l)\n",
    "print(\"vel_r: \",vel_r)\n",
    "print(\"ICR radius: \", R)\n",
    "print(\"---------------------------------------------------------\")\n",
    "print(\"ackerman alpha: \", ackermann_msg[0]*180/math.pi, \"average of steering angles: \", (alpha_l+alpha_r)/2*(180/math.pi))\n",
    "print(\"ackerman vel: \", ackermann_msg[2]/r_w, \"average of vels: \", (vel_l+vel_r)/2)\n",
    "\n"
   ]
  }
 ],
 "metadata": {
  "kernelspec": {
   "display_name": "Python 3",
   "language": "python",
   "name": "python3"
  },
  "language_info": {
   "codemirror_mode": {
    "name": "ipython",
    "version": 2
   },
   "file_extension": ".py",
   "mimetype": "text/x-python",
   "name": "python",
   "nbconvert_exporter": "python",
   "pygments_lexer": "ipython2",
   "version": "2.7.17"
  },
  "orig_nbformat": 4
 },
 "nbformat": 4,
 "nbformat_minor": 2
}
