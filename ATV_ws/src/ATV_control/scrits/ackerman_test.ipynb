{
 "cells": [
  {
   "cell_type": "code",
   "execution_count": 131,
   "metadata": {},
   "outputs": [],
   "source": [
    "import numpy as np\n",
    "import math"
   ]
  },
  {
   "cell_type": "code",
   "execution_count": 132,
   "metadata": {},
   "outputs": [],
   "source": [
    "ackermann_msg =[ -0.1 , 0.0 , 2.0 , 0.0]\n",
    "h = 1\n",
    "b = 0.5\n",
    "r_w = 0.1"
   ]
  },
  {
   "cell_type": "code",
   "execution_count": 133,
   "metadata": {},
   "outputs": [],
   "source": [
    "def get_steering_amgles(msg):\n",
    "    R = h/math.tan(msg[0])\n",
    "\n",
    "    alpha_l = math.atan2(h*math.tan(msg[0]) , h+0.5*b*math.tan(msg[0]))\n",
    "    alpha_r = math.atan2(h*math.tan(msg[0]) , h-0.5*b*math.tan(msg[0]))\n",
    "\n",
    "    gamma = math.atan2(msg[2],R)\n",
    "    vel_l = math.tan(gamma) * (R+(b/2))\n",
    "    vel_r = math.tan(gamma) * (R-(b/2))\n",
    "\n",
    "    return [alpha_l , alpha_r , vel_l , vel_r, R]"
   ]
  },
  {
   "cell_type": "code",
   "execution_count": 134,
   "metadata": {},
   "outputs": [
    {
     "name": "stdout",
     "output_type": "stream",
     "text": [
      "('alpha_l: ', -0.10255512548107612)\n",
      "('alpha_r: ', -0.09756870510595053)\n",
      "('vel_l: ', 1.9498326639572756)\n",
      "('vel_r: ', 2.050167336042726)\n",
      "('ICR radius: ', -9.966644423259238)\n",
      "---------------------------------------------------------\n",
      "('ackerman alpha: ', -5.729577951308232, 'average of steering angles: ', -5.73312543631386)\n",
      "('ackerman vel: ', 2.0, 'average of vels: ', 2.000000000000001)\n"
     ]
    }
   ],
   "source": [
    "[alpha_l , alpha_r , vel_l , vel_r, R] = get_steering_amgles(ackermann_msg)\n",
    "\n",
    "print(\"alpha_l: \", alpha_l)\n",
    "print(\"alpha_r: \", alpha_r)\n",
    "print(\"vel_l: \", vel_l)\n",
    "print(\"vel_r: \",vel_r)\n",
    "print(\"ICR radius: \", R)\n",
    "print(\"---------------------------------------------------------\")\n",
    "print(\"ackerman alpha: \", ackermann_msg[0]*180/math.pi, \"average of steering angles: \", (alpha_l+alpha_r)/2*(180/math.pi))\n",
    "print(\"ackerman vel: \", ackermann_msg[2], \"average of vels: \", (vel_l+vel_r)/2)\n",
    "\n"
   ]
  }
 ],
 "metadata": {
  "kernelspec": {
   "display_name": "Python 3",
   "language": "python",
   "name": "python3"
  },
  "language_info": {
   "codemirror_mode": {
    "name": "ipython",
    "version": 2
   },
   "file_extension": ".py",
   "mimetype": "text/x-python",
   "name": "python",
   "nbconvert_exporter": "python",
   "pygments_lexer": "ipython2",
   "version": "2.7.17"
  },
  "orig_nbformat": 4
 },
 "nbformat": 4,
 "nbformat_minor": 2
}
