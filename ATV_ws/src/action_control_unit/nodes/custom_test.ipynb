{
 "cells": [
  {
   "cell_type": "code",
   "execution_count": 7,
   "metadata": {},
   "outputs": [],
   "source": []
  },
  {
   "cell_type": "code",
   "execution_count": 26,
   "metadata": {},
   "outputs": [
    {
     "ename": "UnboundLocalError",
     "evalue": "local variable 'prev_angle' referenced before assignment",
     "output_type": "error",
     "traceback": [
      "\u001b[0;31m---------------------------------------------------------------------------\u001b[0m",
      "\u001b[0;31mUnboundLocalError\u001b[0m                         Traceback (most recent call last)",
      "Cell \u001b[0;32mIn[26], line 14\u001b[0m\n\u001b[1;32m     11\u001b[0m     prev_angle \u001b[39m=\u001b[39m \u001b[39mmin\u001b[39m(max_steering_angle,\u001b[39mabs\u001b[39m(a_angle))\n\u001b[1;32m     12\u001b[0m     \u001b[39mreturn\u001b[39;00m \u001b[39mmin\u001b[39m(max_steering_angle,\u001b[39mabs\u001b[39m(a_angle))\n\u001b[0;32m---> 14\u001b[0m \u001b[39mprint\u001b[39m(\u001b[39m\"\u001b[39m\u001b[39mactual output: \u001b[39m\u001b[39m\"\u001b[39m \u001b[39m+\u001b[39m \u001b[39mstr\u001b[39m(m_angle_to_a_angle(\u001b[39m15\u001b[39;49m)\u001b[39m*\u001b[39m\u001b[39m180\u001b[39m\u001b[39m/\u001b[39mpi))\n\u001b[1;32m     15\u001b[0m \u001b[39mprint\u001b[39m(\u001b[39m\"\u001b[39m\u001b[39mactual output: \u001b[39m\u001b[39m\"\u001b[39m \u001b[39m+\u001b[39m \u001b[39mstr\u001b[39m(m_angle_to_a_angle(\u001b[39m15\u001b[39m)\u001b[39m*\u001b[39m\u001b[39m180\u001b[39m\u001b[39m/\u001b[39mpi))\n\u001b[1;32m     16\u001b[0m \u001b[39mprint\u001b[39m(\u001b[39m\"\u001b[39m\u001b[39mactual output: \u001b[39m\u001b[39m\"\u001b[39m \u001b[39m+\u001b[39m \u001b[39mstr\u001b[39m(m_angle_to_a_angle(\u001b[39m15\u001b[39m)\u001b[39m*\u001b[39m\u001b[39m180\u001b[39m\u001b[39m/\u001b[39mpi))\n",
      "Cell \u001b[0;32mIn[26], line 10\u001b[0m, in \u001b[0;36mm_angle_to_a_angle\u001b[0;34m(m_angle)\u001b[0m\n\u001b[1;32m      8\u001b[0m \u001b[39mdef\u001b[39;00m \u001b[39mm_angle_to_a_angle\u001b[39m(m_angle):\n\u001b[1;32m      9\u001b[0m     value_in_ticks \u001b[39m=\u001b[39m \u001b[39mint\u001b[39m(\u001b[39mfloat\u001b[39m(m_angle) \u001b[39m/\u001b[39m degree_per_tick)  \u001b[39m# find number of ticks for the stepper motor\u001b[39;00m\n\u001b[0;32m---> 10\u001b[0m     a_angle \u001b[39m=\u001b[39m prev_angle \u001b[39m+\u001b[39m (\u001b[39mfloat\u001b[39m(value_in_ticks\u001b[39m*\u001b[39mdegree_per_tick)\u001b[39m/\u001b[39m\u001b[39m180\u001b[39m)\u001b[39m*\u001b[39mpi \u001b[39m# desired angle commanded\u001b[39;00m\n\u001b[1;32m     11\u001b[0m     prev_angle \u001b[39m=\u001b[39m \u001b[39mmin\u001b[39m(max_steering_angle,\u001b[39mabs\u001b[39m(a_angle))\n\u001b[1;32m     12\u001b[0m     \u001b[39mreturn\u001b[39;00m \u001b[39mmin\u001b[39m(max_steering_angle,\u001b[39mabs\u001b[39m(a_angle))\n",
      "\u001b[0;31mUnboundLocalError\u001b[0m: local variable 'prev_angle' referenced before assignment"
     ]
    }
   ],
   "source": [
    "from math import pi\n",
    "\n",
    "global prev_angle, degree_per_tick\n",
    "prev_angle = 0\n",
    "degree_per_tick = 1.8\n",
    "max_steering_angle = (40/180)*pi\n",
    "\n",
    "def m_angle_to_a_angle(m_angle):\n",
    "    value_in_ticks = int(float(m_angle) / degree_per_tick)  # find number of ticks for the stepper motor\n",
    "    a_angle = prev_angle + (float(value_in_ticks*degree_per_tick)/180)*pi # desired angle commanded\n",
    "    prev_angle = min(max_steering_angle,abs(a_angle))\n",
    "    return min(max_steering_angle,abs(a_angle))\n",
    "\n",
    "print(\"actual output: \" + str(m_angle_to_a_angle(15)*180/pi))\n",
    "print(\"actual output: \" + str(m_angle_to_a_angle(15)*180/pi))\n",
    "print(\"actual output: \" + str(m_angle_to_a_angle(15)*180/pi))\n",
    "print(\"actual output: \" + str(m_angle_to_a_angle(15)*180/pi))\n",
    "print(\"actual output: \" + str(m_angle_to_a_angle(-15)*180/pi))\n"
   ]
  },
  {
   "cell_type": "code",
   "execution_count": 27,
   "metadata": {},
   "outputs": [
    {
     "data": {
      "text/plain": [
       "0.6981317007977318"
      ]
     },
     "execution_count": 27,
     "metadata": {},
     "output_type": "execute_result"
    }
   ],
   "source": [
    "(40/180)*pi"
   ]
  }
 ],
 "metadata": {
  "kernelspec": {
   "display_name": "base",
   "language": "python",
   "name": "python3"
  },
  "language_info": {
   "codemirror_mode": {
    "name": "ipython",
    "version": 3
   },
   "file_extension": ".py",
   "mimetype": "text/x-python",
   "name": "python",
   "nbconvert_exporter": "python",
   "pygments_lexer": "ipython3",
   "version": "3.10.9"
  },
  "orig_nbformat": 4
 },
 "nbformat": 4,
 "nbformat_minor": 2
}
